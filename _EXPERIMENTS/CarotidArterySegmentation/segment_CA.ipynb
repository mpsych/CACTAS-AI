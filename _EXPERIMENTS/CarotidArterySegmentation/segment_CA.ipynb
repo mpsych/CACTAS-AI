{
 "cells": [
  {
   "cell_type": "code",
   "execution_count": 1,
   "id": "34b9f45b",
   "metadata": {},
   "outputs": [
    {
     "name": "stdout",
     "output_type": "stream",
     "text": [
      "Populating the interactive namespace from numpy and matplotlib\n"
     ]
    }
   ],
   "source": [
    "%pylab inline\n",
    "%load_ext autoreload\n",
    "%autoreload 2"
   ]
  },
  {
   "cell_type": "code",
   "execution_count": 2,
   "id": "a0c2451c",
   "metadata": {
    "scrolled": true
   },
   "outputs": [
    {
     "name": "stderr",
     "output_type": "stream",
     "text": [
      "2024-09-28 08:25:54.366704: I tensorflow/stream_executor/platform/default/dso_loader.cc:53] Successfully opened dynamic library libcudart.so.11.0\n"
     ]
    }
   ],
   "source": [
    "import SimpleITK as sitk\n",
    "import cactas as C\n",
    "import os\n",
    "import time\n",
    "from datetime import datetime"
   ]
  },
  {
   "cell_type": "code",
   "execution_count": null,
   "id": "9b3060b5",
   "metadata": {},
   "outputs": [],
   "source": []
  },
  {
   "cell_type": "code",
   "execution_count": 3,
   "id": "68ae7f8f",
   "metadata": {},
   "outputs": [
    {
     "name": "stdout",
     "output_type": "stream",
     "text": [
      "Start time: 2024-09-28 08:25:57.493162\n"
     ]
    }
   ],
   "source": [
    "start_time = time.time()\n",
    "readable_time = datetime.fromtimestamp(start_time).strftime('%Y-%m-%d %H:%M:%S.%f')\n",
    "print(f\"Start time: {readable_time}\")"
   ]
  },
  {
   "cell_type": "code",
   "execution_count": 4,
   "id": "0eca1f3d",
   "metadata": {},
   "outputs": [],
   "source": [
    "def load_seed(seed_image_path, cta_image):\n",
    "    seed_image = sitk.ReadImage(seed_image_path)\n",
    "    seed_indices = sitk.GetArrayFromImage(seed_image)\n",
    "    seeds = list(zip(*seed_indices.nonzero()))\n",
    "    seeds = [tuple(int(x) for x in seed) for seed in seeds]\n",
    "    seeds = [(seed[2], seed[1], seed[0]) for seed in seeds]\n",
    "\n",
    "    if not seeds:\n",
    "        return None\n",
    "\n",
    "    last_seeds = [seed[2] for seed in seeds]\n",
    "    high_range = int(np.median(last_seeds))\n",
    "    low_range = min(last_seeds)\n",
    "\n",
    "    if not high_range or not low_range:\n",
    "        return None\n",
    "\n",
    "    intensity_values = []\n",
    "    for seed in seeds:\n",
    "        # Extract a small region around the seed point\n",
    "        region_radius = [1, 1, 1]  # Define the size of the region around the seed point\n",
    "        region = sitk.RegionOfInterest(cta_image, region_radius, seed)\n",
    "        region_array = sitk.GetArrayFromImage(region)\n",
    "\n",
    "        # Collect all intensity values of the region\n",
    "        intensity_values.extend(region_array.flatten())\n",
    "\n",
    "    if not intensity_values:\n",
    "        return None\n",
    "\n",
    "    return seeds, high_range, low_range, intensity_values\n"
   ]
  },
  {
   "cell_type": "code",
   "execution_count": 5,
   "id": "8c8204a3",
   "metadata": {},
   "outputs": [],
   "source": [
    "DATAPATH='/raid/mpsych/CACTAS/DATA/ESUS/'\n",
    "TS_CA_PATH='/raid/mpsych/CACTAS/DATA/TS_CA_ESUS'\n",
    "TS_VERT_PATH='/raid/mpsych/CACTAS/DATA/TS_VERT_ESUS'\n",
    "output_dir='/raid/mpsych/CACTAS/DATA/CA_ESUS35_v2/'"
   ]
  },
  {
   "cell_type": "code",
   "execution_count": 6,
   "id": "5ee91aab",
   "metadata": {},
   "outputs": [],
   "source": [
    "images, labels = C.Helper.load_data(DATAPATH)"
   ]
  },
  {
   "cell_type": "code",
   "execution_count": 7,
   "id": "0892c3b7",
   "metadata": {},
   "outputs": [
    {
     "data": {
      "text/plain": [
       "(70, 70)"
      ]
     },
     "execution_count": 7,
     "metadata": {},
     "output_type": "execute_result"
    }
   ],
   "source": [
    "len(images), len(labels)"
   ]
  },
  {
   "cell_type": "code",
   "execution_count": null,
   "id": "90fa3299",
   "metadata": {},
   "outputs": [],
   "source": []
  },
  {
   "cell_type": "code",
   "execution_count": null,
   "id": "7043796a",
   "metadata": {},
   "outputs": [],
   "source": []
  },
  {
   "cell_type": "code",
   "execution_count": 8,
   "id": "1fb939a2",
   "metadata": {},
   "outputs": [
    {
     "name": "stdout",
     "output_type": "stream",
     "text": [
      "/raid/mpsych/CACTAS/DATA/CA_ESUS35_v2/5.ca.seg.nrrd\n",
      "/raid/mpsych/CACTAS/DATA/CA_ESUS35_v2/18.ca.seg.nrrd\n",
      "/raid/mpsych/CACTAS/DATA/CA_ESUS35_v2/24.ca.seg.nrrd\n",
      "/raid/mpsych/CACTAS/DATA/CA_ESUS35_v2/60.ca.seg.nrrd\n",
      "/raid/mpsych/CACTAS/DATA/CA_ESUS35_v2/95.ca.seg.nrrd\n",
      "/raid/mpsych/CACTAS/DATA/CA_ESUS35_v2/9.ca.seg.nrrd\n",
      "/raid/mpsych/CACTAS/DATA/CA_ESUS35_v2/23.ca.seg.nrrd\n",
      "/raid/mpsych/CACTAS/DATA/CA_ESUS35_v2/97.ca.seg.nrrd\n",
      "/raid/mpsych/CACTAS/DATA/CA_ESUS35_v2/55.ca.seg.nrrd\n",
      "/raid/mpsych/CACTAS/DATA/CA_ESUS35_v2/69.ca.seg.nrrd\n",
      "/raid/mpsych/CACTAS/DATA/CA_ESUS35_v2/45.ca.seg.nrrd\n",
      "/raid/mpsych/CACTAS/DATA/CA_ESUS35_v2/35.ca.seg.nrrd\n",
      "/raid/mpsych/CACTAS/DATA/CA_ESUS35_v2/21.ca.seg.nrrd\n",
      "/raid/mpsych/CACTAS/DATA/CA_ESUS35_v2/51.ca.seg.nrrd\n",
      "/raid/mpsych/CACTAS/DATA/CA_ESUS35_v2/66.ca.seg.nrrd\n",
      "/raid/mpsych/CACTAS/DATA/CA_ESUS35_v2/91.ca.seg.nrrd\n",
      "/raid/mpsych/CACTAS/DATA/CA_ESUS35_v2/63.ca.seg.nrrd\n",
      "/raid/mpsych/CACTAS/DATA/CA_ESUS35_v2/42.ca.seg.nrrd\n",
      "/raid/mpsych/CACTAS/DATA/CA_ESUS35_v2/15.ca.seg.nrrd\n",
      "/raid/mpsych/CACTAS/DATA/CA_ESUS35_v2/52.ca.seg.nrrd\n",
      "/raid/mpsych/CACTAS/DATA/CA_ESUS35_v2/26.ca.seg.nrrd\n",
      "/raid/mpsych/CACTAS/DATA/CA_ESUS35_v2/86.ca.seg.nrrd\n",
      "/raid/mpsych/CACTAS/DATA/CA_ESUS35_v2/33.ca.seg.nrrd\n",
      "/raid/mpsych/CACTAS/DATA/CA_ESUS35_v2/6.ca.seg.nrrd\n",
      "/raid/mpsych/CACTAS/DATA/CA_ESUS35_v2/46.ca.seg.nrrd\n",
      "/raid/mpsych/CACTAS/DATA/CA_ESUS35_v2/53.ca.seg.nrrd\n",
      "/raid/mpsych/CACTAS/DATA/CA_ESUS35_v2/12.ca.seg.nrrd\n",
      "/raid/mpsych/CACTAS/DATA/CA_ESUS35_v2/50.ca.seg.nrrd\n",
      "/raid/mpsych/CACTAS/DATA/CA_ESUS35_v2/83.ca.seg.nrrd\n",
      "/raid/mpsych/CACTAS/DATA/CA_ESUS35_v2/92.ca.seg.nrrd\n",
      "/raid/mpsych/CACTAS/DATA/CA_ESUS35_v2/64.ca.seg.nrrd\n",
      "/raid/mpsych/CACTAS/DATA/CA_ESUS35_v2/96.ca.seg.nrrd\n",
      "/raid/mpsych/CACTAS/DATA/CA_ESUS35_v2/62.ca.seg.nrrd\n",
      "/raid/mpsych/CACTAS/DATA/CA_ESUS35_v2/13.ca.seg.nrrd\n",
      "/raid/mpsych/CACTAS/DATA/CA_ESUS35_v2/10.ca.seg.nrrd\n",
      "/raid/mpsych/CACTAS/DATA/CA_ESUS35_v2/2.ca.seg.nrrd\n",
      "/raid/mpsych/CACTAS/DATA/CA_ESUS35_v2/31.ca.seg.nrrd\n",
      "/raid/mpsych/CACTAS/DATA/CA_ESUS35_v2/79.ca.seg.nrrd\n",
      "/raid/mpsych/CACTAS/DATA/CA_ESUS35_v2/29.ca.seg.nrrd\n",
      "/raid/mpsych/CACTAS/DATA/CA_ESUS35_v2/49.ca.seg.nrrd\n",
      "/raid/mpsych/CACTAS/DATA/CA_ESUS35_v2/84.ca.seg.nrrd\n",
      "/raid/mpsych/CACTAS/DATA/CA_ESUS35_v2/71.ca.seg.nrrd\n",
      "/raid/mpsych/CACTAS/DATA/CA_ESUS35_v2/61.ca.seg.nrrd\n",
      "/raid/mpsych/CACTAS/DATA/CA_ESUS35_v2/94.ca.seg.nrrd\n",
      "/raid/mpsych/CACTAS/DATA/CA_ESUS35_v2/27.ca.seg.nrrd\n",
      "/raid/mpsych/CACTAS/DATA/CA_ESUS35_v2/72.ca.seg.nrrd\n",
      "/raid/mpsych/CACTAS/DATA/CA_ESUS35_v2/11.ca.seg.nrrd\n",
      "/raid/mpsych/CACTAS/DATA/CA_ESUS35_v2/14.ca.seg.nrrd\n",
      "/raid/mpsych/CACTAS/DATA/CA_ESUS35_v2/75.ca.seg.nrrd\n",
      "/raid/mpsych/CACTAS/DATA/CA_ESUS35_v2/16.ca.seg.nrrd\n",
      "/raid/mpsych/CACTAS/DATA/CA_ESUS35_v2/88.ca.seg.nrrd\n",
      "/raid/mpsych/CACTAS/DATA/CA_ESUS35_v2/41.ca.seg.nrrd\n",
      "/raid/mpsych/CACTAS/DATA/CA_ESUS35_v2/7.ca.seg.nrrd\n",
      "/raid/mpsych/CACTAS/DATA/CA_ESUS35_v2/22.ca.seg.nrrd\n",
      "/raid/mpsych/CACTAS/DATA/CA_ESUS35_v2/65.ca.seg.nrrd\n",
      "/raid/mpsych/CACTAS/DATA/CA_ESUS35_v2/57.ca.seg.nrrd\n",
      "/raid/mpsych/CACTAS/DATA/CA_ESUS35_v2/36.ca.seg.nrrd\n",
      "/raid/mpsych/CACTAS/DATA/CA_ESUS35_v2/32.ca.seg.nrrd\n",
      "/raid/mpsych/CACTAS/DATA/CA_ESUS35_v2/73.ca.seg.nrrd\n",
      "/raid/mpsych/CACTAS/DATA/CA_ESUS35_v2/40.ca.seg.nrrd\n",
      "/raid/mpsych/CACTAS/DATA/CA_ESUS35_v2/90.ca.seg.nrrd\n",
      "/raid/mpsych/CACTAS/DATA/CA_ESUS35_v2/48.ca.seg.nrrd\n",
      "/raid/mpsych/CACTAS/DATA/CA_ESUS35_v2/17.ca.seg.nrrd\n",
      "/raid/mpsych/CACTAS/DATA/CA_ESUS35_v2/93.ca.seg.nrrd\n",
      "/raid/mpsych/CACTAS/DATA/CA_ESUS35_v2/82.ca.seg.nrrd\n",
      "/raid/mpsych/CACTAS/DATA/CA_ESUS35_v2/77.ca.seg.nrrd\n",
      "/raid/mpsych/CACTAS/DATA/CA_ESUS35_v2/25.ca.seg.nrrd\n",
      "/raid/mpsych/CACTAS/DATA/CA_ESUS35_v2/47.ca.seg.nrrd\n",
      "/raid/mpsych/CACTAS/DATA/CA_ESUS35_v2/87.ca.seg.nrrd\n",
      "/raid/mpsych/CACTAS/DATA/CA_ESUS35_v2/39.ca.seg.nrrd\n"
     ]
    }
   ],
   "source": [
    "for image in images:\n",
    "    num = image.split(\".\")[0]\n",
    "    existing_filename = os.path.join(output_dir, num + \".ca.seg.nrrd\")\n",
    "    \n",
    "    if not os.path.exists(existing_filename):\n",
    "        # Construct the full path to the CTA image\n",
    "        cta_image_path = os.path.join(DATAPATH, image)\n",
    "        cta_image = sitk.ReadImage(cta_image_path)\n",
    "        cta_image_array = sitk.GetArrayFromImage(cta_image)\n",
    "\n",
    "\n",
    "        # Assume seed file names are related to the CTA image file name\n",
    "        seed_image_path_left = os.path.join(TS_CA_PATH + \"/\" + num, f\"common_carotid_artery_left.nii.gz\")\n",
    "        seed_image_path_right = os.path.join(TS_CA_PATH+ \"/\" + num, f\"common_carotid_artery_right.nii.gz\")\n",
    "        left_result = load_seed(seed_image_path_left, cta_image)\n",
    "        # Load left seeds\n",
    "        if left_result is not None:\n",
    "            seeds_left, h_left, l_left, intensities_left = left_result\n",
    "        else:\n",
    "            seeds_left, h_left, l_left, intensities_left = None, None, None, None\n",
    "\n",
    "        # Load right seeds\n",
    "        right_result = load_seed(seed_image_path_right, cta_image)\n",
    "        if right_result is not None:\n",
    "            seeds_right, h_right, l_right, intensities_right = right_result\n",
    "        else:\n",
    "            seeds_right, h_right, l_right, intensities_right = None, None, None, None\n",
    "        \n",
    "        if not (seeds_left or seeds_right):\n",
    "            print(f\"Skipping {num} due to missing or empty seed data.\")\n",
    "            continue\n",
    "\n",
    "\n",
    "        # get vertebrae seeds\n",
    "        seed_image_vt_3 = os.path.join(TS_VERT_PATH + \"/\" + num, f\"vertebrae_C3.nii.gz\")\n",
    "        seed_image_vt_5 = os.path.join(TS_VERT_PATH + \"/\" + num, f\"vertebrae_C5.nii.gz\")\n",
    "        \n",
    "        # Load high vert seeds\n",
    "        seeds_high = load_seed(seed_image_vt_3, cta_image)\n",
    "        if seeds_high is not None:\n",
    "            seeds_vt_high, h_high, l_high, intensities_vt_high = seeds_high\n",
    "        else:\n",
    "            seeds_vt_high, h_high, l_high, intensities_vt_high = None, None, None, None\n",
    "        \n",
    "        # Load low vert seeds\n",
    "        seeds_low = load_seed(seed_image_vt_5, cta_image)\n",
    "        if seeds_low is not None:\n",
    "            seeds_vt_low, h_low, l_low, intensities_vt_low = seeds_low\n",
    "        else:\n",
    "            seeds_vt_low, h_low, l_low, intensities_vt_low = None, None, None, None\n",
    "\n",
    "        # Combine seeds and intensity values from both sides\n",
    "        seeds = (seeds_left if seeds_left is not None else []) + (seeds_right if seeds_right is not None else [])\n",
    "        intensity_values = ((intensities_left if intensities_left is not None else []) +\n",
    "                    (intensities_right if intensities_right is not None else []))\n",
    "\n",
    "        intensity_values_array = np.array(intensity_values)  \n",
    "        mean_intensity = np.mean(intensity_values_array)\n",
    "\n",
    "        lower_threshold = float(mean_intensity) - 50\n",
    "        upper_threshold = lower_threshold + 200\n",
    "        \n",
    "        \n",
    "        # Based on seeds, set the range\n",
    "        if (h_left is not None and h_left < l_low) or (h_right is not None and h_right < l_low):\n",
    "            # Calculate min_range, ignoring None values\n",
    "            min_range = min(h for h in [h_left, h_right] if h is not None)\n",
    "            cut_z_range=[min_range, h_high]\n",
    "        else:\n",
    "            cut_z_range = [l_low, h_high]\n",
    "        \n",
    "        \n",
    "        # cut image based on vertebrae seeds\n",
    "        cta_image_array_new = np.zeros_like(cta_image_array)\n",
    "        cta_image_array_new[cut_z_range[0]:cut_z_range[1]] = cta_image_array[cut_z_range[0]:cut_z_range[1]]\n",
    "\n",
    "        # Add header and make output file c\n",
    "        cta_image_modified = sitk.GetImageFromArray(cta_image_array_new)\n",
    "        cta_image_modified.CopyInformation(cta_image)\n",
    "        cta_image_modified.SetSpacing(cta_image.GetSpacing())\n",
    "        cta_image_modified.SetOrigin(cta_image.GetOrigin())\n",
    "        cta_image_modified.SetDirection(cta_image.GetDirection())\n",
    "\n",
    "\n",
    "        # Use adjusted thresholds in the ConnectedThreshold function\n",
    "        output_image = sitk.ConnectedThreshold(cta_image_modified, seedList=seeds,\n",
    "                                               lower=lower_threshold, upper=upper_threshold)\n",
    "\n",
    "        # Process the output image as before\n",
    "        output_image_array = sitk.GetArrayFromImage(output_image)\n",
    "        output_image_array[:l_low] = np.zeros_like(output_image_array[:l_low])\n",
    "\n",
    "        output_image_modified = sitk.GetImageFromArray(output_image_array)\n",
    "        output_image_modified.CopyInformation(output_image)\n",
    "        output_image_modified.SetSpacing(output_image.GetSpacing())\n",
    "        output_image_modified.SetOrigin(output_image.GetOrigin())\n",
    "        output_image_modified.SetDirection(output_image.GetDirection())\n",
    "\n",
    "        # Save the output image with a unique name\n",
    "        output_image_path = os.path.join(output_dir, f\"{num}.ca.seg.nrrd\")\n",
    "        print(output_image_path)\n",
    "        sitk.WriteImage(output_image_modified, output_image_path)\n",
    "\n",
    "        #print(str(num) + \" \" +str(lower_threshold) + \" \" + str(upper_threshold))\n",
    "    else:\n",
    "        print(f\"{existing_filename} already exists. Skipping.\")"
   ]
  },
  {
   "cell_type": "code",
   "execution_count": null,
   "id": "02223a57",
   "metadata": {},
   "outputs": [],
   "source": []
  },
  {
   "cell_type": "code",
   "execution_count": 9,
   "id": "7aa88b96",
   "metadata": {},
   "outputs": [
    {
     "name": "stdout",
     "output_type": "stream",
     "text": [
      "End time: 2024-09-28 13:03:08.614025\n"
     ]
    }
   ],
   "source": [
    "end_time = time.time()\n",
    "readable_time = datetime.fromtimestamp(end_time).strftime('%Y-%m-%d %H:%M:%S.%f')\n",
    "print(f\"End time: {readable_time}\")"
   ]
  },
  {
   "cell_type": "code",
   "execution_count": null,
   "id": "a421fe84",
   "metadata": {},
   "outputs": [],
   "source": []
  },
  {
   "cell_type": "code",
   "execution_count": 10,
   "id": "6a8e23d1",
   "metadata": {},
   "outputs": [
    {
     "name": "stdout",
     "output_type": "stream",
     "text": [
      "Execution time: 1969-12-31 23:37:11.120862\n"
     ]
    }
   ],
   "source": [
    "execution_time = end_time - start_time\n",
    "readable_time = datetime.fromtimestamp(execution_time).strftime('%Y-%m-%d %H:%M:%S.%f')\n",
    "print(f\"Execution time: {readable_time}\")"
   ]
  },
  {
   "cell_type": "code",
   "execution_count": null,
   "id": "203d2e98",
   "metadata": {},
   "outputs": [],
   "source": []
  },
  {
   "cell_type": "code",
   "execution_count": null,
   "id": "cbccf115",
   "metadata": {},
   "outputs": [],
   "source": []
  },
  {
   "cell_type": "code",
   "execution_count": null,
   "id": "b5d725ce",
   "metadata": {},
   "outputs": [],
   "source": []
  },
  {
   "cell_type": "code",
   "execution_count": null,
   "id": "ff67da17",
   "metadata": {},
   "outputs": [],
   "source": []
  }
 ],
 "metadata": {
  "kernelspec": {
   "display_name": "Python 3 (ipykernel)",
   "language": "python",
   "name": "python3"
  },
  "language_info": {
   "codemirror_mode": {
    "name": "ipython",
    "version": 3
   },
   "file_extension": ".py",
   "mimetype": "text/x-python",
   "name": "python",
   "nbconvert_exporter": "python",
   "pygments_lexer": "ipython3",
   "version": "3.9.7"
  }
 },
 "nbformat": 4,
 "nbformat_minor": 5
}
