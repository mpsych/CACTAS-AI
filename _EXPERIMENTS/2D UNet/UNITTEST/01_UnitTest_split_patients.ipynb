{
 "cells": [
  {
   "cell_type": "code",
   "execution_count": 1,
   "id": "fe1bdbab",
   "metadata": {},
   "outputs": [
    {
     "name": "stdout",
     "output_type": "stream",
     "text": [
      "Populating the interactive namespace from numpy and matplotlib\n"
     ]
    }
   ],
   "source": [
    "%pylab inline\n",
    "%load_ext autoreload\n",
    "%autoreload 2"
   ]
  },
  {
   "cell_type": "code",
   "execution_count": 2,
   "id": "9bc8a3a9",
   "metadata": {},
   "outputs": [
    {
     "name": "stderr",
     "output_type": "stream",
     "text": [
      "2024-05-19 20:33:46.848656: I tensorflow/stream_executor/platform/default/dso_loader.cc:53] Successfully opened dynamic library libcudart.so.11.0\n"
     ]
    }
   ],
   "source": [
    "import cactas as C"
   ]
  },
  {
   "cell_type": "code",
   "execution_count": null,
   "id": "3d4bc3b6",
   "metadata": {},
   "outputs": [],
   "source": []
  },
  {
   "cell_type": "code",
   "execution_count": 3,
   "id": "a3d197d5",
   "metadata": {},
   "outputs": [],
   "source": [
    "DATAPATH='/raid/mpsych/CACTAS/DATA/ESUS'\n",
    "CAPATH='/raid/mpsych/CACTAS/DATA/CA24'"
   ]
  },
  {
   "cell_type": "code",
   "execution_count": null,
   "id": "e3e9d703",
   "metadata": {},
   "outputs": [],
   "source": []
  },
  {
   "cell_type": "code",
   "execution_count": 4,
   "id": "16c7f5e7",
   "metadata": {},
   "outputs": [],
   "source": [
    "#### 1 "
   ]
  },
  {
   "cell_type": "code",
   "execution_count": null,
   "id": "096b8992",
   "metadata": {},
   "outputs": [],
   "source": []
  },
  {
   "cell_type": "code",
   "execution_count": 5,
   "id": "90a85eef",
   "metadata": {},
   "outputs": [],
   "source": [
    "images, labels = C.Helper.load_data(DATAPATH)"
   ]
  },
  {
   "cell_type": "code",
   "execution_count": 6,
   "id": "3e1be1ae",
   "metadata": {},
   "outputs": [],
   "source": [
    "masks = C.Helper.load_seg_data(CAPATH)"
   ]
  },
  {
   "cell_type": "code",
   "execution_count": 7,
   "id": "7d306ac7",
   "metadata": {},
   "outputs": [],
   "source": [
    "X_train, y_train, m_train, X_test, y_test, m_test = C.Helper.split_patients_masks(images, labels, masks)"
   ]
  },
  {
   "cell_type": "code",
   "execution_count": 8,
   "id": "c0bb5bae",
   "metadata": {},
   "outputs": [
    {
     "data": {
      "text/plain": [
       "(56, 56, 56)"
      ]
     },
     "execution_count": 8,
     "metadata": {},
     "output_type": "execute_result"
    }
   ],
   "source": [
    "len(X_train), len(y_train), len(m_train)"
   ]
  },
  {
   "cell_type": "code",
   "execution_count": 9,
   "id": "ebe15211",
   "metadata": {},
   "outputs": [
    {
     "data": {
      "text/plain": [
       "(14, 14, 14)"
      ]
     },
     "execution_count": 9,
     "metadata": {},
     "output_type": "execute_result"
    }
   ],
   "source": [
    "len(X_test), len(y_test), len(m_test)"
   ]
  },
  {
   "cell_type": "code",
   "execution_count": 10,
   "id": "ee9ad536",
   "metadata": {},
   "outputs": [
    {
     "data": {
      "text/plain": [
       "array([['46.img.nrrd', '46.b.seg.nrrd', '46.ca.seg.nrrd'],\n",
       "       ['39.img.nrrd', '39.b.seg.nrrd', '39.ca.seg.nrrd'],\n",
       "       ['51.img.nrrd', '51.b.seg.nrrd', '51.ca.seg.nrrd'],\n",
       "       ['52.img.nrrd', '52.b.seg.nrrd', '52.ca.seg.nrrd'],\n",
       "       ['23.img.nrrd', '23.b.seg.nrrd', '23.ca.seg.nrrd'],\n",
       "       ['97.img.nrrd', '97.b.seg.nrrd', '97.ca.seg.nrrd'],\n",
       "       ['45.img.nrrd', '45.b.seg.nrrd', '45.ca.seg.nrrd'],\n",
       "       ['88.img.nrrd', '88.b.seg.nrrd', '88.ca.seg.nrrd'],\n",
       "       ['73.img.nrrd', '73.b.seg.nrrd', '73.ca.seg.nrrd'],\n",
       "       ['94.img.nrrd', '94.b.seg.nrrd', '94.ca.seg.nrrd'],\n",
       "       ['14.img.nrrd', '14.b.seg.nrrd', '14.ca.seg.nrrd'],\n",
       "       ['64.img.nrrd', '64.b.seg.nrrd', '64.ca.seg.nrrd'],\n",
       "       ['79.img.nrrd', '79.b.seg.nrrd', '79.ca.seg.nrrd'],\n",
       "       ['47.img.nrrd', '47.b.seg.nrrd', '47.ca.seg.nrrd'],\n",
       "       ['86.img.nrrd', '86.b.seg.nrrd', '86.ca.seg.nrrd'],\n",
       "       ['17.img.nrrd', '17.b.seg.nrrd', '17.ca.seg.nrrd'],\n",
       "       ['71.img.nrrd', '71.b.seg.nrrd', '71.ca.seg.nrrd'],\n",
       "       ['32.img.nrrd', '32.b.seg.nrrd', '32.ca.seg.nrrd'],\n",
       "       ['83.img.nrrd', '83.b.seg.nrrd', '83.ca.seg.nrrd'],\n",
       "       ['12.img.nrrd', '12.b.seg.nrrd', '12.ca.seg.nrrd'],\n",
       "       ['57.img.nrrd', '57.b.seg.nrrd', '57.ca.seg.nrrd'],\n",
       "       ['69.img.nrrd', '69.b.seg.nrrd', '69.ca.seg.nrrd'],\n",
       "       ['66.img.nrrd', '66.b.seg.nrrd', '66.ca.seg.nrrd'],\n",
       "       ['62.img.nrrd', '62.b.seg.nrrd', '62.ca.seg.nrrd'],\n",
       "       ['63.img.nrrd', '63.b.seg.nrrd', '63.ca.seg.nrrd'],\n",
       "       ['36.img.nrrd', '36.b.seg.nrrd', '36.ca.seg.nrrd'],\n",
       "       ['87.img.nrrd', '87.b.seg.nrrd', '87.ca.seg.nrrd'],\n",
       "       ['9.img.nrrd', '9.b.seg.nrrd', '9.ca.seg.nrrd'],\n",
       "       ['91.img.nrrd', '91.b.seg.nrrd', '91.ca.seg.nrrd'],\n",
       "       ['50.img.nrrd', '50.b.seg.nrrd', '50.ca.seg.nrrd'],\n",
       "       ['7.img.nrrd', '7.b.seg.nrrd', '7.ca.seg.nrrd'],\n",
       "       ['53.img.nrrd', '53.b.seg.nrrd', '53.ca.seg.nrrd'],\n",
       "       ['27.img.nrrd', '27.b.seg.nrrd', '27.ca.seg.nrrd'],\n",
       "       ['92.img.nrrd', '92.b.seg.nrrd', '92.ca.seg.nrrd'],\n",
       "       ['40.img.nrrd', '40.b.seg.nrrd', '40.ca.seg.nrrd'],\n",
       "       ['84.img.nrrd', '84.b.seg.nrrd', '84.ca.seg.nrrd'],\n",
       "       ['61.img.nrrd', '61.b.seg.nrrd', '61.ca.seg.nrrd'],\n",
       "       ['82.img.nrrd', '82.b.seg.nrrd', '82.ca.seg.nrrd'],\n",
       "       ['13.img.nrrd', '13.b.seg.nrrd', '13.ca.seg.nrrd'],\n",
       "       ['41.img.nrrd', '41.b.seg.nrrd', '41.ca.seg.nrrd'],\n",
       "       ['48.img.nrrd', '48.b.seg.nrrd', '48.ca.seg.nrrd'],\n",
       "       ['24.img.nrrd', '24.b.seg.nrrd', '24.ca.seg.nrrd'],\n",
       "       ['31.img.nrrd', '31.b.seg.nrrd', '31.ca.seg.nrrd'],\n",
       "       ['25.img.nrrd', '25.b.seg.nrrd', '25.ca.seg.nrrd'],\n",
       "       ['90.img.nrrd', '90.b.seg.nrrd', '90.ca.seg.nrrd'],\n",
       "       ['26.img.nrrd', '26.b.seg.nrrd', '26.ca.seg.nrrd'],\n",
       "       ['95.b.img.nrrd', '95.b.seg.nrrd', '95.ca.seg.nrrd'],\n",
       "       ['55.b.img.nrrd', '55.b.seg.nrrd', '55.ca.seg.nrrd'],\n",
       "       ['77.img.nrrd', '77.b.seg.nrrd', '77.ca.seg.nrrd'],\n",
       "       ['5.img.nrrd', '5.b.seg.nrrd', '5.ca.seg.nrrd'],\n",
       "       ['15.img.nrrd', '15.b.seg.nrrd', '15.ca.seg.nrrd'],\n",
       "       ['75.img.nrrd', '75.b.seg.nrrd', '75.ca.seg.nrrd'],\n",
       "       ['49.img.nrrd', '49.b.seg.nrrd', '49.ca.seg.nrrd'],\n",
       "       ['11.b.img.nrrd', '11.b.seg.nrrd', '11.ca.seg.nrrd'],\n",
       "       ['29.img.nrrd', '29.b.seg.nrrd', '29.ca.seg.nrrd'],\n",
       "       ['21.img.nrrd', '21.b.seg.nrrd', '21.ca.seg.nrrd']], dtype='<U14')"
      ]
     },
     "execution_count": 10,
     "metadata": {},
     "output_type": "execute_result"
    }
   ],
   "source": [
    "np.column_stack((X_train, y_train, m_train))"
   ]
  },
  {
   "cell_type": "code",
   "execution_count": 11,
   "id": "d3ab0e44",
   "metadata": {},
   "outputs": [
    {
     "data": {
      "text/plain": [
       "array([['6.img.nrrd', '6.b.seg.nrrd', '6.ca.seg.nrrd'],\n",
       "       ['33.img.nrrd', '33.b.seg.nrrd', '33.ca.seg.nrrd'],\n",
       "       ['22.img.nrrd', '22.b.seg.nrrd', '22.ca.seg.nrrd'],\n",
       "       ['16.img.nrrd', '16.b.seg.nrrd', '16.ca.seg.nrrd'],\n",
       "       ['93.img.nrrd', '93.b.seg.nrrd', '93.ca.seg.nrrd'],\n",
       "       ['96.img.nrrd', '96.b.seg.nrrd', '96.ca.seg.nrrd'],\n",
       "       ['2.img.nrrd', '2.b.seg.nrrd', '2.ca.seg.nrrd'],\n",
       "       ['72.img.nrrd', '72.b.seg.nrrd', '72.ca.seg.nrrd'],\n",
       "       ['35.img.nrrd', '35.b.seg.nrrd', '35.ca.seg.nrrd'],\n",
       "       ['42.b.img.nrrd', '42.b.seg.nrrd', '42.ca.seg.nrrd'],\n",
       "       ['65.b.img.nrrd', '65.b.seg.nrrd', '65.ca.seg.nrrd'],\n",
       "       ['60.b.img.nrrd', '60.b.seg.nrrd', '60.ca.seg.nrrd'],\n",
       "       ['18.img.nrrd', '18.b.seg.nrrd', '18.ca.seg.nrrd'],\n",
       "       ['10.img.nrrd', '10.b.seg.nrrd', '10.ca.seg.nrrd']], dtype='<U14')"
      ]
     },
     "execution_count": 11,
     "metadata": {},
     "output_type": "execute_result"
    }
   ],
   "source": [
    "np.column_stack((X_test, y_test, m_test))"
   ]
  },
  {
   "cell_type": "code",
   "execution_count": null,
   "id": "ba98cf48",
   "metadata": {},
   "outputs": [],
   "source": []
  },
  {
   "cell_type": "code",
   "execution_count": null,
   "id": "015b24ca",
   "metadata": {},
   "outputs": [],
   "source": []
  },
  {
   "cell_type": "code",
   "execution_count": 12,
   "id": "bfb0d515",
   "metadata": {},
   "outputs": [],
   "source": [
    "#### 2"
   ]
  },
  {
   "cell_type": "code",
   "execution_count": null,
   "id": "c7d634d0",
   "metadata": {},
   "outputs": [],
   "source": []
  },
  {
   "cell_type": "code",
   "execution_count": 13,
   "id": "96e97a6f",
   "metadata": {},
   "outputs": [],
   "source": [
    "images, labels = C.Helper.load_data(DATAPATH)"
   ]
  },
  {
   "cell_type": "code",
   "execution_count": 14,
   "id": "1e94ad27",
   "metadata": {},
   "outputs": [],
   "source": [
    "masks = C.Helper.load_seg_data(CAPATH)"
   ]
  },
  {
   "cell_type": "code",
   "execution_count": 15,
   "id": "46724cd3",
   "metadata": {},
   "outputs": [],
   "source": [
    "X_train, y_train, m_train, X_test, y_test, m_test = C.Helper.split_patients_masks(images, labels, masks)"
   ]
  },
  {
   "cell_type": "code",
   "execution_count": 16,
   "id": "1335d695",
   "metadata": {},
   "outputs": [
    {
     "data": {
      "text/plain": [
       "(56, 56, 56)"
      ]
     },
     "execution_count": 16,
     "metadata": {},
     "output_type": "execute_result"
    }
   ],
   "source": [
    "len(X_train), len(y_train), len(m_train)"
   ]
  },
  {
   "cell_type": "code",
   "execution_count": 17,
   "id": "e9d17198",
   "metadata": {},
   "outputs": [
    {
     "data": {
      "text/plain": [
       "(14, 14, 14)"
      ]
     },
     "execution_count": 17,
     "metadata": {},
     "output_type": "execute_result"
    }
   ],
   "source": [
    "len(X_test), len(y_test), len(m_test)"
   ]
  },
  {
   "cell_type": "code",
   "execution_count": 18,
   "id": "e41cb66d",
   "metadata": {},
   "outputs": [
    {
     "data": {
      "text/plain": [
       "array([['33.img.nrrd', '33.b.seg.nrrd', '33.ca.seg.nrrd'],\n",
       "       ['42.b.img.nrrd', '42.b.seg.nrrd', '42.ca.seg.nrrd'],\n",
       "       ['21.img.nrrd', '21.b.seg.nrrd', '21.ca.seg.nrrd'],\n",
       "       ['51.img.nrrd', '51.b.seg.nrrd', '51.ca.seg.nrrd'],\n",
       "       ['15.img.nrrd', '15.b.seg.nrrd', '15.ca.seg.nrrd'],\n",
       "       ['32.img.nrrd', '32.b.seg.nrrd', '32.ca.seg.nrrd'],\n",
       "       ['48.img.nrrd', '48.b.seg.nrrd', '48.ca.seg.nrrd'],\n",
       "       ['72.img.nrrd', '72.b.seg.nrrd', '72.ca.seg.nrrd'],\n",
       "       ['83.img.nrrd', '83.b.seg.nrrd', '83.ca.seg.nrrd'],\n",
       "       ['57.img.nrrd', '57.b.seg.nrrd', '57.ca.seg.nrrd'],\n",
       "       ['14.img.nrrd', '14.b.seg.nrrd', '14.ca.seg.nrrd'],\n",
       "       ['97.img.nrrd', '97.b.seg.nrrd', '97.ca.seg.nrrd'],\n",
       "       ['47.img.nrrd', '47.b.seg.nrrd', '47.ca.seg.nrrd'],\n",
       "       ['26.img.nrrd', '26.b.seg.nrrd', '26.ca.seg.nrrd'],\n",
       "       ['94.img.nrrd', '94.b.seg.nrrd', '94.ca.seg.nrrd'],\n",
       "       ['87.img.nrrd', '87.b.seg.nrrd', '87.ca.seg.nrrd'],\n",
       "       ['77.img.nrrd', '77.b.seg.nrrd', '77.ca.seg.nrrd'],\n",
       "       ['17.img.nrrd', '17.b.seg.nrrd', '17.ca.seg.nrrd'],\n",
       "       ['7.img.nrrd', '7.b.seg.nrrd', '7.ca.seg.nrrd'],\n",
       "       ['62.img.nrrd', '62.b.seg.nrrd', '62.ca.seg.nrrd'],\n",
       "       ['22.img.nrrd', '22.b.seg.nrrd', '22.ca.seg.nrrd'],\n",
       "       ['82.img.nrrd', '82.b.seg.nrrd', '82.ca.seg.nrrd'],\n",
       "       ['25.img.nrrd', '25.b.seg.nrrd', '25.ca.seg.nrrd'],\n",
       "       ['13.img.nrrd', '13.b.seg.nrrd', '13.ca.seg.nrrd'],\n",
       "       ['69.img.nrrd', '69.b.seg.nrrd', '69.ca.seg.nrrd'],\n",
       "       ['73.img.nrrd', '73.b.seg.nrrd', '73.ca.seg.nrrd'],\n",
       "       ['93.img.nrrd', '93.b.seg.nrrd', '93.ca.seg.nrrd'],\n",
       "       ['52.img.nrrd', '52.b.seg.nrrd', '52.ca.seg.nrrd'],\n",
       "       ['53.img.nrrd', '53.b.seg.nrrd', '53.ca.seg.nrrd'],\n",
       "       ['90.img.nrrd', '90.b.seg.nrrd', '90.ca.seg.nrrd'],\n",
       "       ['27.img.nrrd', '27.b.seg.nrrd', '27.ca.seg.nrrd'],\n",
       "       ['16.img.nrrd', '16.b.seg.nrrd', '16.ca.seg.nrrd'],\n",
       "       ['41.img.nrrd', '41.b.seg.nrrd', '41.ca.seg.nrrd'],\n",
       "       ['24.img.nrrd', '24.b.seg.nrrd', '24.ca.seg.nrrd'],\n",
       "       ['23.img.nrrd', '23.b.seg.nrrd', '23.ca.seg.nrrd'],\n",
       "       ['40.img.nrrd', '40.b.seg.nrrd', '40.ca.seg.nrrd'],\n",
       "       ['39.img.nrrd', '39.b.seg.nrrd', '39.ca.seg.nrrd'],\n",
       "       ['11.b.img.nrrd', '11.b.seg.nrrd', '11.ca.seg.nrrd'],\n",
       "       ['96.img.nrrd', '96.b.seg.nrrd', '96.ca.seg.nrrd'],\n",
       "       ['6.img.nrrd', '6.b.seg.nrrd', '6.ca.seg.nrrd'],\n",
       "       ['75.img.nrrd', '75.b.seg.nrrd', '75.ca.seg.nrrd'],\n",
       "       ['65.b.img.nrrd', '65.b.seg.nrrd', '65.ca.seg.nrrd'],\n",
       "       ['35.img.nrrd', '35.b.seg.nrrd', '35.ca.seg.nrrd'],\n",
       "       ['9.img.nrrd', '9.b.seg.nrrd', '9.ca.seg.nrrd'],\n",
       "       ['50.img.nrrd', '50.b.seg.nrrd', '50.ca.seg.nrrd'],\n",
       "       ['84.img.nrrd', '84.b.seg.nrrd', '84.ca.seg.nrrd'],\n",
       "       ['10.img.nrrd', '10.b.seg.nrrd', '10.ca.seg.nrrd'],\n",
       "       ['86.img.nrrd', '86.b.seg.nrrd', '86.ca.seg.nrrd'],\n",
       "       ['60.b.img.nrrd', '60.b.seg.nrrd', '60.ca.seg.nrrd'],\n",
       "       ['5.img.nrrd', '5.b.seg.nrrd', '5.ca.seg.nrrd'],\n",
       "       ['92.img.nrrd', '92.b.seg.nrrd', '92.ca.seg.nrrd'],\n",
       "       ['79.img.nrrd', '79.b.seg.nrrd', '79.ca.seg.nrrd'],\n",
       "       ['2.img.nrrd', '2.b.seg.nrrd', '2.ca.seg.nrrd'],\n",
       "       ['49.img.nrrd', '49.b.seg.nrrd', '49.ca.seg.nrrd'],\n",
       "       ['88.img.nrrd', '88.b.seg.nrrd', '88.ca.seg.nrrd'],\n",
       "       ['91.img.nrrd', '91.b.seg.nrrd', '91.ca.seg.nrrd']], dtype='<U14')"
      ]
     },
     "execution_count": 18,
     "metadata": {},
     "output_type": "execute_result"
    }
   ],
   "source": [
    "np.column_stack((X_train, y_train, m_train))"
   ]
  },
  {
   "cell_type": "code",
   "execution_count": 19,
   "id": "b243e3a5",
   "metadata": {},
   "outputs": [
    {
     "data": {
      "text/plain": [
       "array([['66.img.nrrd', '66.b.seg.nrrd', '66.ca.seg.nrrd'],\n",
       "       ['95.b.img.nrrd', '95.b.seg.nrrd', '95.ca.seg.nrrd'],\n",
       "       ['55.b.img.nrrd', '55.b.seg.nrrd', '55.ca.seg.nrrd'],\n",
       "       ['71.img.nrrd', '71.b.seg.nrrd', '71.ca.seg.nrrd'],\n",
       "       ['64.img.nrrd', '64.b.seg.nrrd', '64.ca.seg.nrrd'],\n",
       "       ['36.img.nrrd', '36.b.seg.nrrd', '36.ca.seg.nrrd'],\n",
       "       ['18.img.nrrd', '18.b.seg.nrrd', '18.ca.seg.nrrd'],\n",
       "       ['45.img.nrrd', '45.b.seg.nrrd', '45.ca.seg.nrrd'],\n",
       "       ['46.img.nrrd', '46.b.seg.nrrd', '46.ca.seg.nrrd'],\n",
       "       ['12.img.nrrd', '12.b.seg.nrrd', '12.ca.seg.nrrd'],\n",
       "       ['29.img.nrrd', '29.b.seg.nrrd', '29.ca.seg.nrrd'],\n",
       "       ['31.img.nrrd', '31.b.seg.nrrd', '31.ca.seg.nrrd'],\n",
       "       ['63.img.nrrd', '63.b.seg.nrrd', '63.ca.seg.nrrd'],\n",
       "       ['61.img.nrrd', '61.b.seg.nrrd', '61.ca.seg.nrrd']], dtype='<U14')"
      ]
     },
     "execution_count": 19,
     "metadata": {},
     "output_type": "execute_result"
    }
   ],
   "source": [
    "np.column_stack((X_test, y_test, m_test))"
   ]
  },
  {
   "cell_type": "code",
   "execution_count": null,
   "id": "3e3ff03e",
   "metadata": {},
   "outputs": [],
   "source": []
  },
  {
   "cell_type": "code",
   "execution_count": null,
   "id": "a2c3576f",
   "metadata": {},
   "outputs": [],
   "source": []
  },
  {
   "cell_type": "code",
   "execution_count": 20,
   "id": "4dc82748",
   "metadata": {},
   "outputs": [],
   "source": [
    "#### 3"
   ]
  },
  {
   "cell_type": "code",
   "execution_count": null,
   "id": "24cbaa6d",
   "metadata": {},
   "outputs": [],
   "source": []
  },
  {
   "cell_type": "code",
   "execution_count": 21,
   "id": "64f66943",
   "metadata": {},
   "outputs": [],
   "source": [
    "images, labels = C.Helper.load_data(DATAPATH)"
   ]
  },
  {
   "cell_type": "code",
   "execution_count": 22,
   "id": "cb4532ae",
   "metadata": {},
   "outputs": [],
   "source": [
    "masks = C.Helper.load_seg_data(CAPATH)"
   ]
  },
  {
   "cell_type": "code",
   "execution_count": 23,
   "id": "ee79f83f",
   "metadata": {},
   "outputs": [],
   "source": [
    "X_train, y_train, m_train, X_test, y_test, m_test = C.Helper.split_patients_masks(images, labels, masks)"
   ]
  },
  {
   "cell_type": "code",
   "execution_count": 24,
   "id": "74101efe",
   "metadata": {},
   "outputs": [
    {
     "data": {
      "text/plain": [
       "(56, 56, 56)"
      ]
     },
     "execution_count": 24,
     "metadata": {},
     "output_type": "execute_result"
    }
   ],
   "source": [
    "len(X_train), len(y_train), len(m_train)"
   ]
  },
  {
   "cell_type": "code",
   "execution_count": 25,
   "id": "f804154b",
   "metadata": {},
   "outputs": [
    {
     "data": {
      "text/plain": [
       "(14, 14, 14)"
      ]
     },
     "execution_count": 25,
     "metadata": {},
     "output_type": "execute_result"
    }
   ],
   "source": [
    "len(X_test), len(y_test), len(m_test)"
   ]
  },
  {
   "cell_type": "code",
   "execution_count": 26,
   "id": "1db0ae79",
   "metadata": {},
   "outputs": [
    {
     "data": {
      "text/plain": [
       "array([['55.b.img.nrrd', '55.b.seg.nrrd', '55.ca.seg.nrrd'],\n",
       "       ['46.img.nrrd', '46.b.seg.nrrd', '46.ca.seg.nrrd'],\n",
       "       ['93.img.nrrd', '93.b.seg.nrrd', '93.ca.seg.nrrd'],\n",
       "       ['86.img.nrrd', '86.b.seg.nrrd', '86.ca.seg.nrrd'],\n",
       "       ['82.img.nrrd', '82.b.seg.nrrd', '82.ca.seg.nrrd'],\n",
       "       ['42.b.img.nrrd', '42.b.seg.nrrd', '42.ca.seg.nrrd'],\n",
       "       ['26.img.nrrd', '26.b.seg.nrrd', '26.ca.seg.nrrd'],\n",
       "       ['48.img.nrrd', '48.b.seg.nrrd', '48.ca.seg.nrrd'],\n",
       "       ['94.img.nrrd', '94.b.seg.nrrd', '94.ca.seg.nrrd'],\n",
       "       ['84.img.nrrd', '84.b.seg.nrrd', '84.ca.seg.nrrd'],\n",
       "       ['11.b.img.nrrd', '11.b.seg.nrrd', '11.ca.seg.nrrd'],\n",
       "       ['29.img.nrrd', '29.b.seg.nrrd', '29.ca.seg.nrrd'],\n",
       "       ['40.img.nrrd', '40.b.seg.nrrd', '40.ca.seg.nrrd'],\n",
       "       ['50.img.nrrd', '50.b.seg.nrrd', '50.ca.seg.nrrd'],\n",
       "       ['23.img.nrrd', '23.b.seg.nrrd', '23.ca.seg.nrrd'],\n",
       "       ['47.img.nrrd', '47.b.seg.nrrd', '47.ca.seg.nrrd'],\n",
       "       ['65.b.img.nrrd', '65.b.seg.nrrd', '65.ca.seg.nrrd'],\n",
       "       ['49.img.nrrd', '49.b.seg.nrrd', '49.ca.seg.nrrd'],\n",
       "       ['35.img.nrrd', '35.b.seg.nrrd', '35.ca.seg.nrrd'],\n",
       "       ['22.img.nrrd', '22.b.seg.nrrd', '22.ca.seg.nrrd'],\n",
       "       ['52.img.nrrd', '52.b.seg.nrrd', '52.ca.seg.nrrd'],\n",
       "       ['24.img.nrrd', '24.b.seg.nrrd', '24.ca.seg.nrrd'],\n",
       "       ['61.img.nrrd', '61.b.seg.nrrd', '61.ca.seg.nrrd'],\n",
       "       ['15.img.nrrd', '15.b.seg.nrrd', '15.ca.seg.nrrd'],\n",
       "       ['75.img.nrrd', '75.b.seg.nrrd', '75.ca.seg.nrrd'],\n",
       "       ['32.img.nrrd', '32.b.seg.nrrd', '32.ca.seg.nrrd'],\n",
       "       ['31.img.nrrd', '31.b.seg.nrrd', '31.ca.seg.nrrd'],\n",
       "       ['69.img.nrrd', '69.b.seg.nrrd', '69.ca.seg.nrrd'],\n",
       "       ['83.img.nrrd', '83.b.seg.nrrd', '83.ca.seg.nrrd'],\n",
       "       ['90.img.nrrd', '90.b.seg.nrrd', '90.ca.seg.nrrd'],\n",
       "       ['16.img.nrrd', '16.b.seg.nrrd', '16.ca.seg.nrrd'],\n",
       "       ['87.img.nrrd', '87.b.seg.nrrd', '87.ca.seg.nrrd'],\n",
       "       ['73.img.nrrd', '73.b.seg.nrrd', '73.ca.seg.nrrd'],\n",
       "       ['45.img.nrrd', '45.b.seg.nrrd', '45.ca.seg.nrrd'],\n",
       "       ['9.img.nrrd', '9.b.seg.nrrd', '9.ca.seg.nrrd'],\n",
       "       ['2.img.nrrd', '2.b.seg.nrrd', '2.ca.seg.nrrd'],\n",
       "       ['60.b.img.nrrd', '60.b.seg.nrrd', '60.ca.seg.nrrd'],\n",
       "       ['57.img.nrrd', '57.b.seg.nrrd', '57.ca.seg.nrrd'],\n",
       "       ['51.img.nrrd', '51.b.seg.nrrd', '51.ca.seg.nrrd'],\n",
       "       ['27.img.nrrd', '27.b.seg.nrrd', '27.ca.seg.nrrd'],\n",
       "       ['10.img.nrrd', '10.b.seg.nrrd', '10.ca.seg.nrrd'],\n",
       "       ['79.img.nrrd', '79.b.seg.nrrd', '79.ca.seg.nrrd'],\n",
       "       ['64.img.nrrd', '64.b.seg.nrrd', '64.ca.seg.nrrd'],\n",
       "       ['92.img.nrrd', '92.b.seg.nrrd', '92.ca.seg.nrrd'],\n",
       "       ['95.b.img.nrrd', '95.b.seg.nrrd', '95.ca.seg.nrrd'],\n",
       "       ['12.img.nrrd', '12.b.seg.nrrd', '12.ca.seg.nrrd'],\n",
       "       ['96.img.nrrd', '96.b.seg.nrrd', '96.ca.seg.nrrd'],\n",
       "       ['13.img.nrrd', '13.b.seg.nrrd', '13.ca.seg.nrrd'],\n",
       "       ['41.img.nrrd', '41.b.seg.nrrd', '41.ca.seg.nrrd'],\n",
       "       ['77.img.nrrd', '77.b.seg.nrrd', '77.ca.seg.nrrd'],\n",
       "       ['88.img.nrrd', '88.b.seg.nrrd', '88.ca.seg.nrrd'],\n",
       "       ['33.img.nrrd', '33.b.seg.nrrd', '33.ca.seg.nrrd'],\n",
       "       ['21.img.nrrd', '21.b.seg.nrrd', '21.ca.seg.nrrd'],\n",
       "       ['5.img.nrrd', '5.b.seg.nrrd', '5.ca.seg.nrrd'],\n",
       "       ['72.img.nrrd', '72.b.seg.nrrd', '72.ca.seg.nrrd'],\n",
       "       ['25.img.nrrd', '25.b.seg.nrrd', '25.ca.seg.nrrd']], dtype='<U14')"
      ]
     },
     "execution_count": 26,
     "metadata": {},
     "output_type": "execute_result"
    }
   ],
   "source": [
    "np.column_stack((X_train, y_train, m_train))"
   ]
  },
  {
   "cell_type": "code",
   "execution_count": 27,
   "id": "c4d748fe",
   "metadata": {},
   "outputs": [
    {
     "data": {
      "text/plain": [
       "array([['39.img.nrrd', '39.b.seg.nrrd', '39.ca.seg.nrrd'],\n",
       "       ['91.img.nrrd', '91.b.seg.nrrd', '91.ca.seg.nrrd'],\n",
       "       ['6.img.nrrd', '6.b.seg.nrrd', '6.ca.seg.nrrd'],\n",
       "       ['71.img.nrrd', '71.b.seg.nrrd', '71.ca.seg.nrrd'],\n",
       "       ['7.img.nrrd', '7.b.seg.nrrd', '7.ca.seg.nrrd'],\n",
       "       ['17.img.nrrd', '17.b.seg.nrrd', '17.ca.seg.nrrd'],\n",
       "       ['97.img.nrrd', '97.b.seg.nrrd', '97.ca.seg.nrrd'],\n",
       "       ['62.img.nrrd', '62.b.seg.nrrd', '62.ca.seg.nrrd'],\n",
       "       ['63.img.nrrd', '63.b.seg.nrrd', '63.ca.seg.nrrd'],\n",
       "       ['14.img.nrrd', '14.b.seg.nrrd', '14.ca.seg.nrrd'],\n",
       "       ['36.img.nrrd', '36.b.seg.nrrd', '36.ca.seg.nrrd'],\n",
       "       ['66.img.nrrd', '66.b.seg.nrrd', '66.ca.seg.nrrd'],\n",
       "       ['18.img.nrrd', '18.b.seg.nrrd', '18.ca.seg.nrrd'],\n",
       "       ['53.img.nrrd', '53.b.seg.nrrd', '53.ca.seg.nrrd']], dtype='<U14')"
      ]
     },
     "execution_count": 27,
     "metadata": {},
     "output_type": "execute_result"
    }
   ],
   "source": [
    "np.column_stack((X_test, y_test, m_test))"
   ]
  },
  {
   "cell_type": "code",
   "execution_count": null,
   "id": "154085ff",
   "metadata": {},
   "outputs": [],
   "source": []
  }
 ],
 "metadata": {
  "kernelspec": {
   "display_name": "Python 3 (ipykernel)",
   "language": "python",
   "name": "python3"
  },
  "language_info": {
   "codemirror_mode": {
    "name": "ipython",
    "version": 3
   },
   "file_extension": ".py",
   "mimetype": "text/x-python",
   "name": "python",
   "nbconvert_exporter": "python",
   "pygments_lexer": "ipython3",
   "version": "3.9.7"
  }
 },
 "nbformat": 4,
 "nbformat_minor": 5
}
